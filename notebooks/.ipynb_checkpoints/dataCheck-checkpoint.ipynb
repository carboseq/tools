{
 "cells": [
  {
   "cell_type": "markdown",
   "metadata": {},
   "source": [
    "# EJP Common template - Data Checking Module\n",
    "Please upload your filled excel template and press 'Check' to see if there are any errors that required attention."
   ]
  },
  {
   "cell_type": "code",
   "execution_count": 1,
   "metadata": {},
   "outputs": [],
   "source": [
    "import pandas as pd\n",
    "import numpy as np\n",
    "import time\n",
    "from ipywidgets import FileUpload, Button, Output\n",
    "from IPython.display import FileLink"
   ]
  },
  {
   "cell_type": "code",
   "execution_count": 115,
   "metadata": {},
   "outputs": [
    {
     "data": {
      "application/vnd.jupyter.widget-view+json": {
       "model_id": "628ea30f83c745738f931c2ecc612c0b",
       "version_major": 2,
       "version_minor": 0
      },
      "text/plain": [
       "FileUpload(value={}, description='Upload')"
      ]
     },
     "metadata": {},
     "output_type": "display_data"
    },
    {
     "data": {
      "application/vnd.jupyter.widget-view+json": {
       "model_id": "53af9448bf404e44bf90f4375cdb3c79",
       "version_major": 2,
       "version_minor": 0
      },
      "text/plain": [
       "Button(description='Check File', style=ButtonStyle())"
      ]
     },
     "metadata": {},
     "output_type": "display_data"
    },
    {
     "data": {
      "application/vnd.jupyter.widget-view+json": {
       "model_id": "1b9e9a278de1434baa554bb3b901ae15",
       "version_major": 2,
       "version_minor": 0
      },
      "text/plain": [
       "Output()"
      ]
     },
     "metadata": {},
     "output_type": "display_data"
    }
   ],
   "source": [
    "# proof of concept of web-based input file check (on binder for instance)\n",
    "\n",
    "upload = FileUpload()\n",
    "out = Output()\n",
    "def processBtnFunc(btn):\n",
    "    df = pd.read_excel(upload.data[0])\n",
    "    df.to_excel('processedFile.xlsx', index=False)\n",
    "    with out:\n",
    "        print(df.head())\n",
    "        display(FileLink('processedFile.xlsx'))\n",
    "processBtn = widgets.Button(description = 'Check File')\n",
    "processBtn.on_click(processBtnFunc)\n",
    "\n",
    "# layout\n",
    "display(upload)\n",
    "display(processBtn)\n",
    "display(out)"
   ]
  },
  {
   "cell_type": "code",
   "execution_count": 105,
   "metadata": {},
   "outputs": [
    {
     "name": "stdout",
     "output_type": "stream",
     "text": [
      "Read in 19.81s\n"
     ]
    }
   ],
   "source": [
    "fname = wd + 'ejp-common-template.xlsx'\n",
    "sheetNames = ['experiment', 'reference', 'treatment', 'soil', 'tillage', 'crops',\n",
    "             'fertilization', 'amendment', 'irrigation', 'pest', 'grazing',\n",
    "             'measurement', 'data']\n",
    "t0 = time.time()\n",
    "dfdic = pd.read_excel(fname, sheet_name=sheetNames, skiprows=[0,1,3])\n",
    "print('Read in {:.2f}s'.format(time.time() - t0))"
   ]
  },
  {
   "cell_type": "code",
   "execution_count": 106,
   "metadata": {},
   "outputs": [],
   "source": [
    "# list of the controlled vocabulary\n",
    "dfdrop = pd.read_excel(fname, sheet_name='dropDownList', skiprows=[0])"
   ]
  },
  {
   "cell_type": "markdown",
   "metadata": {},
   "source": [
    "## Data checking and sanitization\n",
    "Check indexes make sense, that choices are from the Bonares list or the drop down menu, ..."
   ]
  },
  {
   "cell_type": "code",
   "execution_count": 107,
   "metadata": {},
   "outputs": [
    {
     "data": {
      "text/plain": [
       "'experimentId'"
      ]
     },
     "execution_count": 107,
     "metadata": {},
     "output_type": "execute_result"
    }
   ],
   "source": [
    "def camelCase(s):\n",
    "    s = s.split()\n",
    "    return s[0].lower() + ''.join(i.capitalize() for i in s[1:])\n",
    "camelCase('Experiment ID')"
   ]
  },
  {
   "cell_type": "code",
   "execution_count": 109,
   "metadata": {},
   "outputs": [
    {
     "name": "stdout",
     "output_type": "stream",
     "text": [
      "All indexes are unique.\n"
     ]
    }
   ],
   "source": [
    "# check that all ID colums contains unique values\n",
    "tocheck = [\n",
    "    ('experiment', 'Experiment ID'),\n",
    "    ('treatment', 'Treatment ID'),\n",
    "    ('crops', 'Crops ID'),\n",
    "#     ('fertilization', 'Fertilizer ID'),\n",
    "#     ('amendment', 'Amendment ID'),\n",
    "#     ('irrigation', 'Irrigation ID'),\n",
    "#     ('pest', 'Pest ID'),\n",
    "#     ('weed', 'Weed ID'),\n",
    "#     ('grazing', 'Grazing ID')\n",
    "]\n",
    "ok = True\n",
    "for a in tocheck:\n",
    "    df = dfdic[a[0]]\n",
    "    if len(df[a[1]].unique()) != df.shape[0]:\n",
    "        print(a[1], 'not unique!')\n",
    "        ok = False\n",
    "if ok:\n",
    "    print('All indexes are unique.')"
   ]
  },
  {
   "cell_type": "code",
   "execution_count": 110,
   "metadata": {},
   "outputs": [
    {
     "name": "stdout",
     "output_type": "stream",
     "text": [
      "All treatment IDs are specified in the different sheets.\n"
     ]
    }
   ],
   "source": [
    "# check that all Treatment ID are specified in subsequent sheet\n",
    "treatmentIDs = dfdic['treatment']['Treatment ID'].unique()\n",
    "tocheck = ['plant', 'residue', 'pest', 'weed', 'irrigation', 'tillage']\n",
    "ok = True\n",
    "for a in tocheck:\n",
    "    specified = df['Treatment ID'].unique()\n",
    "    ie = np.in1d(treatmentIDs, specified)\n",
    "    if np.sum(~ie) > 0: # some treatment are not specified\n",
    "        print(treatmentIDs[~ie], 'are not specified in', str(df))\n",
    "        ok = False\n",
    "if ok:\n",
    "    print('All treatment IDs are specified in the different sheets.')"
   ]
  },
  {
   "cell_type": "code",
   "execution_count": 111,
   "metadata": {},
   "outputs": [],
   "source": [
    "# check Reference treatment is part of treatmentID\n",
    "df = dfdic['treatment']\n",
    "ref = df['Reference treatment'].dropna().unique()\n",
    "ids = df['Treatment ID'].unique()\n",
    "ie = np.in1d(ref, ids)\n",
    "if np.sum(~ie) > 0:\n",
    "    print('Some \"Reference treatment\" do not refer to \"Treatment ID\"')"
   ]
  },
  {
   "cell_type": "code",
   "execution_count": 112,
   "metadata": {},
   "outputs": [
    {
     "ename": "IndexError",
     "evalue": "Replacement index 1 out of range for positional args tuple",
     "output_type": "error",
     "traceback": [
      "\u001b[1;31m---------------------------------------------------------------------------\u001b[0m",
      "\u001b[1;31mIndexError\u001b[0m                                Traceback (most recent call last)",
      "\u001b[1;32m<ipython-input-112-256c327d066d>\u001b[0m in \u001b[0;36m<module>\u001b[1;34m\u001b[0m\n\u001b[0;32m      6\u001b[0m     \u001b[0mie\u001b[0m \u001b[1;33m=\u001b[0m \u001b[0mnp\u001b[0m\u001b[1;33m.\u001b[0m\u001b[0min1d\u001b[0m\u001b[1;33m(\u001b[0m\u001b[0mrots2\u001b[0m\u001b[1;33m,\u001b[0m \u001b[0mrots\u001b[0m\u001b[1;33m)\u001b[0m\u001b[1;33m\u001b[0m\u001b[1;33m\u001b[0m\u001b[0m\n\u001b[0;32m      7\u001b[0m     \u001b[1;32mif\u001b[0m \u001b[0mnp\u001b[0m\u001b[1;33m.\u001b[0m\u001b[0msum\u001b[0m\u001b[1;33m(\u001b[0m\u001b[1;33m~\u001b[0m\u001b[0mie\u001b[0m\u001b[1;33m)\u001b[0m \u001b[1;33m>\u001b[0m \u001b[1;36m0\u001b[0m\u001b[1;33m:\u001b[0m\u001b[1;33m\u001b[0m\u001b[1;33m\u001b[0m\u001b[0m\n\u001b[1;32m----> 8\u001b[1;33m         \u001b[0mprint\u001b[0m\u001b[1;33m(\u001b[0m\u001b[1;34m'Rotations: {:s} from tab {:s} are not defined in other tabs.'\u001b[0m\u001b[1;33m.\u001b[0m\u001b[0mformat\u001b[0m\u001b[1;33m(\u001b[0m\u001b[0mstr\u001b[0m\u001b[1;33m(\u001b[0m\u001b[0mrots2\u001b[0m\u001b[1;33m[\u001b[0m\u001b[1;33m~\u001b[0m\u001b[0mie\u001b[0m\u001b[1;33m]\u001b[0m\u001b[1;33m)\u001b[0m\u001b[1;33m)\u001b[0m\u001b[1;33m,\u001b[0m \u001b[0msheet\u001b[0m\u001b[1;33m)\u001b[0m\u001b[1;33m\u001b[0m\u001b[1;33m\u001b[0m\u001b[0m\n\u001b[0m",
      "\u001b[1;31mIndexError\u001b[0m: Replacement index 1 out of range for positional args tuple"
     ]
    }
   ],
   "source": [
    "# check rotations do not appear suddently (not 100% sure about that)\n",
    "rots = dfdic['tillage']['Rotation'].unique()\n",
    "sheets = ['crops', 'pest', 'weed', 'irrigation', 'grazing']\n",
    "for sheet in sheets:\n",
    "    rots2 = dfdic[sheet]['Rotation'].unique()\n",
    "    ie = np.in1d(rots2, rots)\n",
    "    if np.sum(~ie) > 0:\n",
    "        print('Rotations: {:s} from tab {:s} are not defined in other tabs.'.format(str(rots2[~ie])), sheet)"
   ]
  },
  {
   "cell_type": "code",
   "execution_count": 113,
   "metadata": {},
   "outputs": [
    {
     "name": "stdout",
     "output_type": "stream",
     "text": [
      "check: experiment     > Climate zone                      : ok\n",
      "check: experiment     > European climatic zone            : ok\n",
      "check: experiment     > Land use                          : ok\n",
      "check: experiment     > Aspect                            : ok\n",
      "check: experiment     > Specific research infrastructure  : new words: ['Flux tower, Rain out shelter, Lysimeter']\n",
      "check: reference      > Publication type                  : ok\n",
      "check: treatment      > Farming system                    : ok\n",
      "check: soil           > Soil type WRB                     : ok\n",
      "check: soil           > Soil type WRB qualifier           : ok\n",
      "check: soil           > Soil type WRB specifier           : ok\n",
      "check: soil           > Soil type USDA                    : ok\n",
      "check: soil           > Soil type USDA qualifier          : ok\n",
      "check: tillage        > Rotation                          : ok\n",
      "check: tillage        > Tillage system                    : ok\n",
      "check: tillage        > Tillage method                    : ok\n",
      "check: crops          > Rotation                          : ok\n",
      "check: crops          > Crop type                         : ok\n",
      "check: crops          > Cropping system                   : ok\n",
      "check: crops          > Crop                              : ok\n",
      "check: crops          > Sowing method                     : ok\n",
      "check: crops          > Harvesting method                 : ok\n",
      "check: crops          > Type of residue incorporation     : ok\n",
      "check: crops          > Residue quality                   : ok\n",
      "check: fertilization  > Rotation                          : ok\n",
      "check: fertilization  > Type of fertilizer                : ok\n",
      "check: fertilization  > Fertilizer application method     : ok\n",
      "check: amendment      > Rotation                          : ok\n",
      "check: amendment      > Type of amendment                 : ok\n",
      "check: amendment      > Amendment application method      : ok\n",
      "check: irrigation     > Rotation                          : ok\n",
      "check: irrigation     > Irrigation method                 : new words: ['Drip irrigaiton']\n",
      "check: irrigation     > Irrigation water                  : ok\n",
      "check: irrigation     > Drainage system                   : ok\n",
      "check: pest           > Rotation                          : ok\n",
      "check: pest           > Type of pest control              : ok\n",
      "check: pest           > Pest control method               : ok\n",
      "check: grazing        > Rotation                          : ok\n",
      "check: grazing        > Grazing method                    : ok\n",
      "check: grazing        > Livestock breed                   : ok\n",
      "check: measurement    > Rotation                          : ok\n",
      "check: measurement    > Measurement                       : ok\n",
      "check: measurement    > Sampling frequency                : ok\n",
      "check: data           > Rotation                          : ok\n",
      "check: data           > Measurement                       : ok\n"
     ]
    }
   ],
   "source": [
    "# check controlled vocabulary and raise new words introduced\n",
    "newWords = {}\n",
    "for key in dfdic.keys():\n",
    "    df = dfdic[key]\n",
    "    for col in df.columns:\n",
    "        if col in dfdrop.columns:\n",
    "            status = 'ok'\n",
    "            voc = df[col].dropna().unique()\n",
    "            cvoc = dfdrop[col].dropna().values\n",
    "            ie = np.in1d(voc, cvoc)\n",
    "            if np.sum(~ie) > 0:\n",
    "                status = 'new words: ' + str(voc[~ie])\n",
    "                newWords[col] = list(voc[~ie])\n",
    "            print('check: {:14s} > {:34s}: {:s}'.format(key, col, status))"
   ]
  },
  {
   "cell_type": "code",
   "execution_count": null,
   "metadata": {},
   "outputs": [],
   "source": []
  },
  {
   "cell_type": "code",
   "execution_count": null,
   "metadata": {},
   "outputs": [],
   "source": [
    "# refactor ID (make them unique between experiment)\n"
   ]
  },
  {
   "cell_type": "code",
   "execution_count": null,
   "metadata": {},
   "outputs": [],
   "source": [
    "# multiply 'all treatments'"
   ]
  },
  {
   "cell_type": "code",
   "execution_count": null,
   "metadata": {},
   "outputs": [],
   "source": [
    "# identify which management practice is treatment specific\n",
    "mgnt = ['soil','crops','tillage','fertilization','amendment','irrigation','pest','grazing']\n"
   ]
  },
  {
   "cell_type": "markdown",
   "metadata": {},
   "source": [
    "## Crop rotation vizualization"
   ]
  },
  {
   "cell_type": "code",
   "execution_count": null,
   "metadata": {},
   "outputs": [],
   "source": []
  },
  {
   "cell_type": "code",
   "execution_count": null,
   "metadata": {},
   "outputs": [],
   "source": []
  }
 ],
 "metadata": {
  "kernelspec": {
   "display_name": "Python 3",
   "language": "python",
   "name": "python3"
  },
  "language_info": {
   "codemirror_mode": {
    "name": "ipython",
    "version": 3
   },
   "file_extension": ".py",
   "mimetype": "text/x-python",
   "name": "python",
   "nbconvert_exporter": "python",
   "pygments_lexer": "ipython3",
   "version": "3.8.7"
  }
 },
 "nbformat": 4,
 "nbformat_minor": 4
}
