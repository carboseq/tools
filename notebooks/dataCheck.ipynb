{
 "cells": [
  {
   "cell_type": "markdown",
   "metadata": {},
   "source": [
    "# EJP Common template - Data Checking Module\n",
    "Please upload your filled excel template and press 'Check' to see if there are any errors that required attention."
   ]
  },
  {
   "cell_type": "code",
   "execution_count": 1,
   "metadata": {},
   "outputs": [],
   "source": [
    "import pandas as pd\n",
    "import numpy as np\n",
    "import time\n",
    "import matplotlib.pyplot as plt\n",
    "from matplotlib.collections import PolyCollection\n",
    "import matplotlib.dates as mdates\n",
    "from xlsx2csv import Xlsx2csv\n",
    "import tempfile\n",
    "import os\n",
    "    \n",
    "from ipywidgets import FileUpload, Button, Output, Dropdown\n",
    "from IPython.display import FileLink\n",
    "\n",
    "sheetNames = ['experiment', 'reference', 'treatment', 'soil', 'tillage', 'crops',\n",
    "             'fertilization', 'amendment', 'irrigation', 'pest', 'grazing',\n",
    "             'measurement', 'data', 'dropDownList']"
   ]
  },
  {
   "cell_type": "code",
   "execution_count": 2,
   "metadata": {},
   "outputs": [],
   "source": [
    "def readExcel2(data):\n",
    "    t0 = time.time()\n",
    "    print('Reading in Excel file...', end='')\n",
    "    a = Xlsx2csv(data, outputencoding=\"utf-8\")\n",
    "    dfdic = {}\n",
    "    with tempfile.TemporaryDirectory() as td:\n",
    "        a.convert(td, sheetid=0)\n",
    "        for i, sheet in enumerate(sheetNames):\n",
    "            fname = os.path.join(td, sheet + '.csv')\n",
    "            dfdic[sheet] = pd.read_csv(fname, skiprows=[0,1,3]).dropna(how='all')\n",
    "    datetimeList = [('crops', 'Sowing date'),\n",
    "                    ('crops', 'Harvesting date'),\n",
    "                    ('tillage', 'Tillage date'),\n",
    "                    ('amendment', 'Amendment date'),\n",
    "                    ('fertilization', 'Fertilizer application date'),\n",
    "                    ('irrigation', 'Irrigation date'),\n",
    "                    ('pest', 'Pesticide application date'),\n",
    "                    ('measurement', 'Sampling date'),\n",
    "                    ('data', 'Date')\n",
    "                   ]\n",
    "    for row in datetimeList:\n",
    "        df = dfdic[row[0]]\n",
    "        df[row[1]] = pd.to_datetime(df[row[1]])\n",
    "    print('done ({:.2f}s)'.format(time.time() - t0))\n",
    "    return dfdic\n",
    "#dfdic = readExcel2('../../../ejp-wp7/ejp-common-template2.xlsx')"
   ]
  },
  {
   "cell_type": "code",
   "execution_count": 3,
   "metadata": {},
   "outputs": [],
   "source": [
    "def readExcel(data):\n",
    "    t0 = time.time()\n",
    "    print('Reading in Excel file...', end='')\n",
    "    dfdic = pd.read_excel(data, sheet_name=None, skiprows=[0,1,3])\n",
    "    print('done ({:.2f}s)'.format(time.time() - t0))\n",
    "    return dfdic\n",
    "\n",
    "#dfdic = readExcel('../../../ejp-wp7/ejp-common-template2.xlsx')"
   ]
  },
  {
   "cell_type": "code",
   "execution_count": 4,
   "metadata": {},
   "outputs": [],
   "source": [
    "# check that all ID colums contains unique values\n",
    "def checkID(dfdic):\n",
    "    tocheck = [\n",
    "        ('experiment', 'Experiment ID'),\n",
    "        ('treatment', 'Treatment ID'),\n",
    "        ('crops', 'Crops ID'),\n",
    "    ]\n",
    "    ok = True\n",
    "    for a in tocheck:\n",
    "        df = dfdic[a[0]]\n",
    "        if len(df[a[1]].unique()) != df.shape[0]:\n",
    "            print(a[1], 'not unique!, multiple IDs defined')\n",
    "            ok = False\n",
    "    if ok:\n",
    "        print('All indexes are unique.')"
   ]
  },
  {
   "cell_type": "code",
   "execution_count": 5,
   "metadata": {},
   "outputs": [],
   "source": [
    "# check that all Treatment ID are specified in subsequent sheet\n",
    "def checkTreatmentID(dfdic):\n",
    "    experimentIDs = dfdic['experiment']['Experiment ID'].unique()\n",
    "    for expid in experimentIDs:\n",
    "        dftreat = dfdic['treatment']\n",
    "        ie = dftreat['Experiment ID'] == expid\n",
    "        treatmentIDs = dftreat[ie]['Treatment ID'].unique()\n",
    "        tocheck = ['crops', 'pest', 'irrigation', 'tillage', 'soil']\n",
    "        ok = True\n",
    "        for a in tocheck:\n",
    "            df = dfdic[a]\n",
    "            ie = df['Experiment ID'] == expid\n",
    "            specified = df[ie]['Treatment ID'].values\n",
    "            icommon = np.in1d(treatmentIDs, specified)\n",
    "            if np.sum(~icommon) > 0: # some treatment are not specified\n",
    "                print('{:s} are not specified for \"{:s}\" in experiment \"{:s}\"'.format(str(treatmentIDs[~icommon]), a, expid))\n",
    "                ok = False\n",
    "        if ok:\n",
    "            print('{:s}: all treatment IDs are specified in the different sheets.'.format(expid))"
   ]
  },
  {
   "cell_type": "code",
   "execution_count": 6,
   "metadata": {},
   "outputs": [],
   "source": [
    "# check rotations do not appear suddently (not 100% sure about that)\n",
    "def checkRotation(dfdic):\n",
    "    print('not sure about that...')\n",
    "    rots = dfdic['tillage']['Rotation'].unique()\n",
    "    sheets = ['crops', 'pest', 'weed', 'irrigation', 'grazing']\n",
    "    for sheet in sheets:\n",
    "        rots2 = dfdic[sheet]['Rotation'].unique()\n",
    "        ie = np.in1d(rots2, rots)\n",
    "        if np.sum(~ie) > 0:\n",
    "            print('Rotations: {:s} from tab {:s} are not defined in other tabs.'.format(str(rots2[~ie])), sheet)"
   ]
  },
  {
   "cell_type": "code",
   "execution_count": 7,
   "metadata": {},
   "outputs": [],
   "source": [
    "# check controlled vocabulary and raise new words introduced\n",
    "def checkVocabulary(dfdic):\n",
    "    dfdrop = dfdic['dropDownList']\n",
    "    newWords = {}\n",
    "    for key in dfdic.keys():\n",
    "        df = dfdic[key]\n",
    "        for col in df.columns:\n",
    "            if col in dfdrop.columns:\n",
    "                status = 'ok'\n",
    "                voc = df[col].dropna().unique()\n",
    "                cvoc = dfdrop[col].dropna().values\n",
    "                ie = np.in1d(voc, cvoc)\n",
    "                if np.sum(~ie) > 0:\n",
    "                    status = 'new words: ' + str(voc[~ie])\n",
    "                    newWords[col] = list(voc[~ie])\n",
    "                print('check: {:14s} > {:34s}: {:s}'.format(key, col, status))"
   ]
  },
  {
   "cell_type": "code",
   "execution_count": 8,
   "metadata": {},
   "outputs": [],
   "source": [
    "# multiply 'all treatments' to enter it in the relational database\n",
    "def multiplyTreatments(dfdic):\n",
    "    tocheck = ['crops', 'pest', 'irrigation', 'tillage', 'soil']\n",
    "    dftreat = dfdic['treatment']\n",
    "    dfdic2 = dfdic.copy()\n",
    "    for a in tocheck:\n",
    "        df = dfdic[a]\n",
    "        df2 = pd.DataFrame()\n",
    "        for i in range(df.shape[0]):\n",
    "            row = df.loc[i, :].copy()\n",
    "            if row['Treatment ID'] == 'all treatments':\n",
    "                print('Sheet \"{:s}\" > experiment \"{:s}\" expanded'.format(\n",
    "                a, row['Experiment ID']))\n",
    "                ie = dftreat['Experiment ID'] == row['Experiment ID']\n",
    "                treatmentIDs = dftreat[ie]['Treatment ID'].values\n",
    "                for treatmentID in treatmentIDs:\n",
    "                    row['Treatment ID'] = treatmentID\n",
    "                    df2 = df2.append(row.copy())\n",
    "            else:\n",
    "                df2 = df2.append(row.copy())\n",
    "        dfdic2[a] = df2.reset_index(drop=True)\n",
    "    return dfdic2"
   ]
  },
  {
   "cell_type": "code",
   "execution_count": 9,
   "metadata": {},
   "outputs": [],
   "source": [
    "# identify which management practice is treatment specific\n",
    "# TODO for crops, we need to take cropsID into account\n",
    "def extractTreatment(dfdic):\n",
    "    mgnt = ['soil','crops','tillage','fertilization','amendment','irrigation','pest','grazing']\n",
    "    experimentIDs = dfdic['experiment']['Experiment ID'].unique()\n",
    "    x = np.zeros((len(experimentIDs), len(mgnt)), dtype=bool)\n",
    "    dft = pd.DataFrame(x, columns=mgnt) # True if the practice is part of treatment\n",
    "    dft.insert(0, 'Experiment ID', experimentIDs)\n",
    "    for expid in experimentIDs:\n",
    "        treatList = []\n",
    "        for sheet in mgnt:\n",
    "            df = dfdic[sheet]\n",
    "            ie = df['Experiment ID'] == expid\n",
    "            sdf = df[ie].copy().drop(['Experiment ID', 'Treatment ID'], axis=1).reset_index(drop=True)\n",
    "            sdf = sdf.dropna(axis=1)\n",
    "            isTreatment = False\n",
    "            if sdf.shape[0] > 0: # sheet might be empty for expid\n",
    "                s0 = sdf.loc[0,:]\n",
    "                if sheet != 'soil':\n",
    "                    for i in range(1, sdf.shape[0]):\n",
    "                        if (sdf.loc[i,:] != s0).any():\n",
    "                            # print('++++++is different:', sdf.loc[i,:], '--', s0, '///', sdf.loc[i,:] != s0)\n",
    "                            isTreatment = True\n",
    "                            break\n",
    "                else: # for 'soil', we need to compare each layer per layer\n",
    "                    soilLayers = sdf['Layer number'].unique()\n",
    "                    for soilLayer in soilLayers:\n",
    "                        ie2 = sdf['Layer number'] == soilLayer\n",
    "                        ssdf = sdf[ie2].copy().drop('Layer number', axis=1).reset_index(drop=True)\n",
    "                        ssdf = ssdf.dropna(axis=1)\n",
    "                        s0 = ssdf.loc[0,:]\n",
    "                        for i in range(1, ssdf.shape[0]):\n",
    "                            if (ssdf.loc[i,:] != s0).any():\n",
    "                                 # print('----- not identical', (ssdf.loc[i,:] != s0))\n",
    "                                isTreatment = True\n",
    "                                break\n",
    "            if isTreatment is True:\n",
    "                dft.loc[dft['Experiment ID'] == expid, sheet] = True\n",
    "    return dft"
   ]
  },
  {
   "cell_type": "code",
   "execution_count": 1,
   "metadata": {},
   "outputs": [],
   "source": [
    "# check for unexpected increase in date for sowing or harvesting or for harvesting date after sowing date\n",
    "def checkDates(dfdic):\n",
    "    dfcrop = dfdic['crops']\n",
    "    for i in range(dfcrop.shape[0]):\n",
    "        row = dfcrop.loc[i,:]\n",
    "        sowing = row['Sowing date'].values\n",
    "        harvesting = row['Harvesting date'].values\n",
    "        if pd.isnull(sowing) and pd.isnull(harvesting):\n",
    "            sowing = row['Sowing period']\n",
    "            harvesting = row['Harvesting period']\n",
    "            if pd.isnull(sowing) and pd.isnull(harvestig):\n",
    "                print('No sowing date/period AND no harvesting date/period specified for row:', row)\n",
    "        elif not pd.isnull(sowing) and not pd.isnull(harvesting):\n",
    "            if harvesting < sowing:\n",
    "                print('Harvesting date is smaller than sowing date, please check row {:d} of the \"crops\" tab'.format(i+1))\n",
    "    "
   ]
  },
  {
   "cell_type": "code",
   "execution_count": 11,
   "metadata": {},
   "outputs": [],
   "source": [
    "def createRotation(dfdic, expid):\n",
    "    df = dfdic['crops']\n",
    "    ie1 = df['Experiment ID'] == expid\n",
    "    treatments = df[ie1]['Treatment ID'].unique()\n",
    "    ucrops = df[ie1]['Crop'].unique()\n",
    "    colors = dict(zip(ucrops, [plt.cm.tab10(i) for i in range(len(ucrops))]))\n",
    "    xmax = df[ie1]['Harvesting date'].max()\n",
    "    fig, ax = plt.subplots(figsize=(14,4))\n",
    "    c = 0\n",
    "    tticks = []\n",
    "    for i, treatment in enumerate(treatments):\n",
    "        ax.axhline(c, color='k', linestyle=':')\n",
    "        tticks.append(c)\n",
    "        c += 1\n",
    "        ie2 = df['Treatment ID'] == treatment\n",
    "        crops = df[ie1 & ie2]['Crops ID'].unique()\n",
    "        for j, crop in enumerate(crops):\n",
    "            ie3 = df['Crops ID'] == crop\n",
    "            row = df[ie1 & ie2 & ie3]\n",
    "            cropName = row['Crop'].values[0]\n",
    "            sowing = row['Sowing date'].values[0]\n",
    "            harvesting = row['Harvesting date'].values[0]         \n",
    "            if pd.isnull(harvesting):\n",
    "                harvesting = xmax\n",
    "            if not pd.isnull(sowing) and not pd.isnull(harvesting):\n",
    "                xy = np.array([[sowing, c],\n",
    "                              [sowing, c+3],\n",
    "                              [harvesting, c+3],\n",
    "                              [harvesting, c],\n",
    "                              [sowing, c]])\n",
    "                xy[:,0] = mdates.date2num(xy[:,0])\n",
    "                coll = PolyCollection([xy], facecolors=[colors[cropName]], alpha=0.5)\n",
    "                ax.add_collection(coll)\n",
    "                ax.text(sowing + np.abs(sowing - harvesting)/2, c+2,\n",
    "                        cropName.replace('> ','').replace('>',''), ha='center', fontsize=8)\n",
    "                # print(i, j, crop, sowing, harvesting)\n",
    "                # check for overlap to see if we need to skip row?\n",
    "                c += 4\n",
    "    tticks.append(c)\n",
    "    ax.autoscale()\n",
    "    # add vertical bar for year\n",
    "    #xmin, xmax = ax.get_xlim()\n",
    "    #xmin, xmax = mdates.num2date(xmin), mdates.num2date(xmax)\n",
    "    xmin = df[ie1]['Sowing date'].min()\n",
    "    xmin = xmin.replace(month=1, day=1)\n",
    "    xmax = xmax.replace(year=xmax.year+1, month=1, day=1)\n",
    "    ax.set_xlim([xmin, xmax])\n",
    "    d = xmin\n",
    "    for i in range(100):\n",
    "        d = d.replace(year=d.year + 1)\n",
    "        if d < xmax:\n",
    "            ax.axvline(d, color='k')\n",
    "    loc = mdates.MonthLocator()\n",
    "    ax.xaxis.set_major_locator(loc)\n",
    "    ax.xaxis.set_major_formatter(mdates.AutoDateFormatter(loc)) \n",
    "    ax.invert_yaxis()\n",
    "    ax.grid(axis='x')\n",
    "    ax.set_yticks(tticks[:-1] + np.diff(tticks)/2)\n",
    "    ax.set_yticklabels(treatments)\n",
    "    fig.autofmt_xdate()\n",
    "    fname = 'rotation-' + str(expid) + '.jpg'\n",
    "    fig.savefig(fname, dpi=500)\n",
    "    plt.show() # needed to plot the graph in the 'out' context\n",
    "    display(FileLink(fname))\n",
    "    \n",
    "#createRotation(dfdic, 'cc1')"
   ]
  },
  {
   "cell_type": "code",
   "execution_count": 12,
   "metadata": {},
   "outputs": [
    {
     "data": {
      "application/vnd.jupyter.widget-view+json": {
       "model_id": "a8be45b8e8394624b379fec370549fc7",
       "version_major": 2,
       "version_minor": 0
      },
      "text/plain": [
       "FileUpload(value={}, description='Upload')"
      ]
     },
     "metadata": {},
     "output_type": "display_data"
    },
    {
     "data": {
      "application/vnd.jupyter.widget-view+json": {
       "model_id": "d3695e5be7944587a6ccd50c30059d70",
       "version_major": 2,
       "version_minor": 0
      },
      "text/plain": [
       "Button(description='Check File', style=ButtonStyle())"
      ]
     },
     "metadata": {},
     "output_type": "display_data"
    },
    {
     "data": {
      "application/vnd.jupyter.widget-view+json": {
       "model_id": "f4a700143a2c4a82a0ad1bf754818173",
       "version_major": 2,
       "version_minor": 0
      },
      "text/plain": [
       "Dropdown(description='Experiment ID:', options=('',), value='')"
      ]
     },
     "metadata": {},
     "output_type": "display_data"
    },
    {
     "data": {
      "application/vnd.jupyter.widget-view+json": {
       "model_id": "f0393312769f406abb0af55955316d9f",
       "version_major": 2,
       "version_minor": 0
      },
      "text/plain": [
       "Button(description='Rotation Graph', style=ButtonStyle())"
      ]
     },
     "metadata": {},
     "output_type": "display_data"
    },
    {
     "data": {
      "application/vnd.jupyter.widget-view+json": {
       "model_id": "0143685b1f114d428a04c03df9e42e75",
       "version_major": 2,
       "version_minor": 0
      },
      "text/plain": [
       "Output()"
      ]
     },
     "metadata": {},
     "output_type": "display_data"
    }
   ],
   "source": [
    "# proof of concept of web-based input file check (on binder for instance)\n",
    "dfdic = pd.DataFrame()\n",
    "upload = FileUpload()\n",
    "out = Output()\n",
    "def processBtnFunc(btn):\n",
    "    out.clear_output()\n",
    "    with out:\n",
    "        #dfdic = readExcel(upload.data[0])\n",
    "        with open('t.xlsx', 'wb') as f:\n",
    "            f.write(upload.data[0])\n",
    "        dfdic = readExcel2('t.xlsx')\n",
    "        print('\\n\\n--------------------------------- Check IDs ---------------------------------')\n",
    "        checkID(dfdic)\n",
    "        print('\\n\\n--------------------------------- Expanding Treatment ID --------------------')\n",
    "        dfdic = multiplyTreatments(dfdic)\n",
    "        print('\\n\\n--------------------------------- Check Treatment ID ------------------------')\n",
    "        checkTreatmentID(dfdic)\n",
    "        #print('\\n\\n--------------------------------- Check Rotation ----------------------------')\n",
    "        #checkRotation(dfdic)\n",
    "        print('\\n\\n--------------------------------- Check Controlled Vocabulary ---------------')\n",
    "        checkVocabulary(dfdic)\n",
    "        print('\\n\\n--------------------------------- Extract Treatments ------------------------')\n",
    "        dft = extractTreatment(dfdic)\n",
    "        print(dft)\n",
    "    expDropdown.options = dfdic['experiment']['Experiment ID'].unique()\n",
    "    def rotBtnFunc(a):\n",
    "        with out:\n",
    "            createRotation(dfdic, expDropdown.value)\n",
    "    rotBtn.on_click(rotBtnFunc)\n",
    "processBtn = Button(description = 'Check File')\n",
    "processBtn.on_click(processBtnFunc)\n",
    "\n",
    "expDropdown = Dropdown(options=[''], description='Experiment ID:')\n",
    "rotBtn = Button(description='Rotation Graph')\n",
    "\n",
    "# layout\n",
    "display(upload)\n",
    "display(processBtn)\n",
    "display(expDropdown)\n",
    "display(rotBtn)\n",
    "display(out)"
   ]
  }
 ],
 "metadata": {
  "kernelspec": {
   "display_name": "Python 3",
   "language": "python",
   "name": "python3"
  },
  "language_info": {
   "codemirror_mode": {
    "name": "ipython",
    "version": 3
   },
   "file_extension": ".py",
   "mimetype": "text/x-python",
   "name": "python",
   "nbconvert_exporter": "python",
   "pygments_lexer": "ipython3",
   "version": "3.8.7"
  }
 },
 "nbformat": 4,
 "nbformat_minor": 4
}
