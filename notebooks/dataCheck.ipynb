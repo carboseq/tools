{
 "cells": [
  {
   "cell_type": "markdown",
   "metadata": {},
   "source": [
    "# EJP Common template - Data Checking Module\n",
    "Please upload your filled excel template and press 'Check' to see if there are any errors that required attention."
   ]
  },
  {
   "cell_type": "code",
   "execution_count": null,
   "metadata": {},
   "outputs": [],
   "source": [
    "import pandas as pd\n",
    "import numpy as np\n",
    "import time\n",
    "import matplotlib.pyplot as plt\n",
    "\n",
    "from ipywidgets import FileUpload, Button, Output\n",
    "from IPython.display import FileLink\n",
    "\n",
    "sheetNames = ['experiment', 'reference', 'treatment', 'soil', 'tillage', 'crops',\n",
    "             'fertilization', 'amendment', 'irrigation', 'pest', 'grazing',\n",
    "             'measurement', 'data', 'dropDownList']"
   ]
  },
  {
   "cell_type": "code",
   "execution_count": 2,
   "metadata": {},
   "outputs": [
    {
     "name": "stdout",
     "output_type": "stream",
     "text": [
      "Reading in Excel file...done (15.28s)\n"
     ]
    }
   ],
   "source": [
    "def readExcel(data):\n",
    "    t0 = time.time()\n",
    "    print('Reading in Excel file...', end='')\n",
    "    dfdic = pd.read_excel(data, sheet_name=sheetNames, skiprows=[0,1,3])\n",
    "    print('done ({:.2f}s)'.format(time.time() - t0))\n",
    "    return dfdic\n",
    "\n",
    "dfdic = readExcel('../../../ejp-wp7/ejp-common-template.xlsx')"
   ]
  },
  {
   "cell_type": "code",
   "execution_count": 3,
   "metadata": {},
   "outputs": [],
   "source": [
    "# check that all ID colums contains unique values\n",
    "def checkID(dfdic):\n",
    "    tocheck = [\n",
    "        ('experiment', 'Experiment ID'),\n",
    "        ('treatment', 'Treatment ID'),\n",
    "        ('crops', 'Crops ID'),\n",
    "    ]\n",
    "    ok = True\n",
    "    for a in tocheck:\n",
    "        df = dfdic[a[0]]\n",
    "        if len(df[a[1]].unique()) != df.shape[0]:\n",
    "            print(a[1], 'not unique!')\n",
    "            ok = False\n",
    "    if ok:\n",
    "        print('All indexes are unique.')"
   ]
  },
  {
   "cell_type": "code",
   "execution_count": 4,
   "metadata": {},
   "outputs": [
    {
     "name": "stdout",
     "output_type": "stream",
     "text": [
      "['zeroTill with N' 'zeroTill no N' 'normalTill with N' 'normalTill no N'] are not specified for \"soil\" in experiment \"cc1\"\n",
      "cc2: all treatment IDs are specified in the different sheets.\n"
     ]
    }
   ],
   "source": [
    "# check that all Treatment ID are specified in subsequent sheet\n",
    "def checkTreatmentID(dfdic):\n",
    "    experimentIDs = dfdic['experiment']['Experiment ID'].unique()\n",
    "    for expid in experimentIDs:\n",
    "        dftreat = dfdic['treatment']\n",
    "        ie = dftreat['Experiment ID'] == expid\n",
    "        treatmentIDs = dftreat[ie]['Treatment ID'].unique()\n",
    "        tocheck = ['crops', 'pest', 'irrigation', 'tillage', 'soil']\n",
    "        ok = True\n",
    "        for a in tocheck:\n",
    "            df = dfdic[a]\n",
    "            ie = df['Experiment ID'] == expid\n",
    "            specified = df[ie]['Treatment ID'].unique()\n",
    "            icommon = np.in1d(treatmentIDs, specified)\n",
    "            if np.sum(~icommon) > 0: # some treatment are not specified\n",
    "                print('{:s} are not specified for \"{:s}\" in experiment \"{:s}\"'.format(str(treatmentIDs[~icommon]), a, expid))\n",
    "                ok = False\n",
    "        if ok:\n",
    "            print('{:s}: all treatment IDs are specified in the different sheets.'.format(expid))\n",
    "checkTreatmentID(dfdic)"
   ]
  },
  {
   "cell_type": "code",
   "execution_count": 5,
   "metadata": {},
   "outputs": [],
   "source": [
    "# check rotations do not appear suddently (not 100% sure about that)\n",
    "def checkRotation(dfdic):\n",
    "    print('not sure about that...')\n",
    "    rots = dfdic['tillage']['Rotation'].unique()\n",
    "    sheets = ['crops', 'pest', 'weed', 'irrigation', 'grazing']\n",
    "    for sheet in sheets:\n",
    "        rots2 = dfdic[sheet]['Rotation'].unique()\n",
    "        ie = np.in1d(rots2, rots)\n",
    "        if np.sum(~ie) > 0:\n",
    "            print('Rotations: {:s} from tab {:s} are not defined in other tabs.'.format(str(rots2[~ie])), sheet)"
   ]
  },
  {
   "cell_type": "code",
   "execution_count": 6,
   "metadata": {},
   "outputs": [],
   "source": [
    "# check controlled vocabulary and raise new words introduced\n",
    "def checkVocabulary(dfdic):\n",
    "    dfdrop = dfdic['dropDownList']\n",
    "    newWords = {}\n",
    "    for key in dfdic.keys():\n",
    "        df = dfdic[key]\n",
    "        for col in df.columns:\n",
    "            if col in dfdrop.columns:\n",
    "                status = 'ok'\n",
    "                voc = df[col].dropna().unique()\n",
    "                cvoc = dfdrop[col].dropna().values\n",
    "                ie = np.in1d(voc, cvoc)\n",
    "                if np.sum(~ie) > 0:\n",
    "                    status = 'new words: ' + str(voc[~ie])\n",
    "                    newWords[col] = list(voc[~ie])\n",
    "                print('check: {:14s} > {:34s}: {:s}'.format(key, col, status))"
   ]
  },
  {
   "cell_type": "code",
   "execution_count": 7,
   "metadata": {},
   "outputs": [],
   "source": [
    "# multiply 'all treatments'?"
   ]
  },
  {
   "cell_type": "code",
   "execution_count": 8,
   "metadata": {},
   "outputs": [],
   "source": [
    "# identify which management practice is treatment specific\n",
    "def extractTreatment(dfdic):\n",
    "    mgnt = ['soil','crops','tillage','fertilization','amendment','irrigation','pest','grazing']\n",
    "    # which management practice is unique or not\n"
   ]
  },
  {
   "cell_type": "code",
   "execution_count": 9,
   "metadata": {},
   "outputs": [],
   "source": [
    "# check for unexpected increase in date for sowing or harvesting\n"
   ]
  },
  {
   "cell_type": "code",
   "execution_count": 10,
   "metadata": {},
   "outputs": [],
   "source": [
    "def createRotation(dfdic):\n",
    "    pass"
   ]
  },
  {
   "cell_type": "code",
   "execution_count": 12,
   "metadata": {},
   "outputs": [
    {
     "data": {
      "application/vnd.jupyter.widget-view+json": {
       "model_id": "d43e3bf975504b4c9bab1779608d553f",
       "version_major": 2,
       "version_minor": 0
      },
      "text/plain": [
       "FileUpload(value={}, description='Upload')"
      ]
     },
     "metadata": {},
     "output_type": "display_data"
    },
    {
     "data": {
      "application/vnd.jupyter.widget-view+json": {
       "model_id": "db0955b9a2e049a99c6b52a70cd3ca94",
       "version_major": 2,
       "version_minor": 0
      },
      "text/plain": [
       "Button(description='Check File', style=ButtonStyle())"
      ]
     },
     "metadata": {},
     "output_type": "display_data"
    },
    {
     "data": {
      "application/vnd.jupyter.widget-view+json": {
       "model_id": "0974445465474123aaddbb7c3fb9da39",
       "version_major": 2,
       "version_minor": 0
      },
      "text/plain": [
       "Output()"
      ]
     },
     "metadata": {},
     "output_type": "display_data"
    }
   ],
   "source": [
    "# proof of concept of web-based input file check (on binder for instance)\n",
    "\n",
    "upload = FileUpload()\n",
    "out = Output()\n",
    "def processBtnFunc(btn):\n",
    "    with out:\n",
    "        dfdic = readExcel(upload.data[0])\n",
    "        print('\\n\\n--------------------------------- Check IDs ---------------------------------')\n",
    "        checkID(dfdic)\n",
    "        print('\\n\\n--------------------------------- Check Treatment ID ------------------------')\n",
    "        checkTreatmentID(dfdic)\n",
    "        #print('\\n\\n--------------------------------- Check Rotation ----------------------------')\n",
    "        #checkRotation(dfdic)\n",
    "        print('\\n\\n--------------------------------- Check Controlled Vocabulary ---------------')\n",
    "        checkVocabulary(dfdic)\n",
    "        print('\\n\\n--------------------------------- Extract Treatment -------------------------')\n",
    "        extractTreatment(dfdic)\n",
    "        print('\\n\\n--------------------------------- Create Rotation Display -------------------')\n",
    "        createRotation(dfdic)\n",
    "processBtn = Button(description = 'Check File')\n",
    "processBtn.on_click(processBtnFunc)\n",
    "\n",
    "# layout\n",
    "display(upload)\n",
    "display(processBtn)\n",
    "display(out)"
   ]
  },
  {
   "cell_type": "code",
   "execution_count": null,
   "metadata": {},
   "outputs": [],
   "source": []
  }
 ],
 "metadata": {
  "kernelspec": {
   "display_name": "Python 3",
   "language": "python",
   "name": "python3"
  },
  "language_info": {
   "codemirror_mode": {
    "name": "ipython",
    "version": 3
   },
   "file_extension": ".py",
   "mimetype": "text/x-python",
   "name": "python",
   "nbconvert_exporter": "python",
   "pygments_lexer": "ipython3",
   "version": "3.8.7"
  }
 },
 "nbformat": 4,
 "nbformat_minor": 4
}
